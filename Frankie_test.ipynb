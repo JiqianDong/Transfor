{
 "cells": [
  {
   "cell_type": "code",
   "execution_count": 3,
   "metadata": {},
   "outputs": [],
   "source": [
    "from utils import *\n",
    "import open3d as o3d\n",
    "import rosbags\n",
    "import numpy as np\n",
    "from pathlib import Path\n",
    "from rosbags.highlevel import AnyReader\n"
   ]
  },
  {
   "cell_type": "code",
   "execution_count": 15,
   "metadata": {},
   "outputs": [
    {
     "name": "stdout",
     "output_type": "stream",
     "text": [
      "sucessfully load 1 frames\n",
      "sucessfully load 1 frames\n"
     ]
    }
   ],
   "source": [
    "def read_point_clouds(num_msgs=10, bag_path=\"./data/2023-11-03-12-37-20.bag\", topic=\"/lidar_0000/pandar\"):\n",
    "    points = []\n",
    "    pxyzs = []\n",
    "    ct = 0\n",
    "    with AnyReader([Path(bag_path)]) as reader:\n",
    "        connections = [x for x in reader.connections if x.topic == topic]\n",
    "        for connection, timestamp, rawdata in reader.messages(connections=connections):\n",
    "            msg = reader.deserialize(rawdata, connection.msgtype)\n",
    "            pt = read_points(msg)            \n",
    "            pt_xyz = np.vstack([[p[0], p[1], p[2]] for p in pt])\n",
    "            points.append(pt)\n",
    "            pxyzs.append(pt_xyz)\n",
    "            ct += 1            \n",
    "            if ct >= num_msgs:\n",
    "                print(f\"sucessfully load {len(points)} frames\")\n",
    "                return points, pxyzs\n",
    "    return None\n",
    "\n",
    "points1, pxyzs1 = read_point_clouds(1, topic=\"/lidar_0000/pandar\")\n",
    "points2, pxyzs2 = read_point_clouds(1, topic=\"/lidar_0001/pandar\")"
   ]
  },
  {
   "cell_type": "code",
   "execution_count": 23,
   "metadata": {},
   "outputs": [],
   "source": [
    "pcd1 = o3d.geometry.PointCloud()\n",
    "pcd1.points = o3d.utility.Vector3dVector(pxyzs1[0])\n",
    "\n",
    "pcd2 = o3d.geometry.PointCloud()\n",
    "pcd2.points = o3d.utility.Vector3dVector(pxyzs2[0])\n",
    "\n",
    "o3d.visualization.draw_geometries([pcd1])"
   ]
  },
  {
   "cell_type": "code",
   "execution_count": null,
   "metadata": {},
   "outputs": [],
   "source": []
  }
 ],
 "metadata": {
  "kernelspec": {
   "display_name": "Python 3",
   "language": "python",
   "name": "python3"
  },
  "language_info": {
   "codemirror_mode": {
    "name": "ipython",
    "version": 3
   },
   "file_extension": ".py",
   "mimetype": "text/x-python",
   "name": "python",
   "nbconvert_exporter": "python",
   "pygments_lexer": "ipython3",
   "version": "3.8.10"
  }
 },
 "nbformat": 4,
 "nbformat_minor": 2
}
