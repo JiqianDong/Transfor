{
 "cells": [
  {
   "cell_type": "code",
   "execution_count": 3,
   "metadata": {},
   "outputs": [],
   "source": [
    "from utils import *\n",
    "import open3d as o3d\n",
    "import rosbags\n",
    "import numpy as np\n",
    "from pathlib import Path\n",
    "from rosbags.highlevel import AnyReader\n"
   ]
  },
  {
   "cell_type": "code",
   "execution_count": 4,
   "metadata": {},
   "outputs": [
    {
     "ename": "AnyReaderError",
     "evalue": "The following paths are missing: [PosixPath('2023-11-03-12-37-20.bag')]",
     "output_type": "error",
     "traceback": [
      "\u001b[0;31m---------------------------------------------------------------------------\u001b[0m",
      "\u001b[0;31mAnyReaderError\u001b[0m                            Traceback (most recent call last)",
      "\u001b[1;32m/home/ai/Desktop/TRB_competition/Tranfor/Frankie_test.ipynb Cell 2\u001b[0m line \u001b[0;36m1\n\u001b[1;32m     <a href='vscode-notebook-cell:/home/ai/Desktop/TRB_competition/Tranfor/Frankie_test.ipynb#W1sZmlsZQ%3D%3D?line=14'>15</a>\u001b[0m                 \u001b[39mreturn\u001b[39;00m points, pxyzs\n\u001b[1;32m     <a href='vscode-notebook-cell:/home/ai/Desktop/TRB_competition/Tranfor/Frankie_test.ipynb#W1sZmlsZQ%3D%3D?line=15'>16</a>\u001b[0m     \u001b[39mreturn\u001b[39;00m \u001b[39mNone\u001b[39;00m\n\u001b[0;32m---> <a href='vscode-notebook-cell:/home/ai/Desktop/TRB_competition/Tranfor/Frankie_test.ipynb#W1sZmlsZQ%3D%3D?line=17'>18</a>\u001b[0m points, pxyzs \u001b[39m=\u001b[39m read_point_clouds(\u001b[39m10\u001b[39;49m)\n",
      "\u001b[1;32m/home/ai/Desktop/TRB_competition/Tranfor/Frankie_test.ipynb Cell 2\u001b[0m line \u001b[0;36m5\n\u001b[1;32m      <a href='vscode-notebook-cell:/home/ai/Desktop/TRB_competition/Tranfor/Frankie_test.ipynb#W1sZmlsZQ%3D%3D?line=2'>3</a>\u001b[0m pxyzs \u001b[39m=\u001b[39m []\n\u001b[1;32m      <a href='vscode-notebook-cell:/home/ai/Desktop/TRB_competition/Tranfor/Frankie_test.ipynb#W1sZmlsZQ%3D%3D?line=3'>4</a>\u001b[0m ct \u001b[39m=\u001b[39m \u001b[39m0\u001b[39m\n\u001b[0;32m----> <a href='vscode-notebook-cell:/home/ai/Desktop/TRB_competition/Tranfor/Frankie_test.ipynb#W1sZmlsZQ%3D%3D?line=4'>5</a>\u001b[0m \u001b[39mwith\u001b[39;00m AnyReader([Path(\u001b[39m\"\u001b[39;49m\u001b[39m./2023-11-03-12-37-20.bag\u001b[39;49m\u001b[39m\"\u001b[39;49m)]) \u001b[39mas\u001b[39;00m reader:\n\u001b[1;32m      <a href='vscode-notebook-cell:/home/ai/Desktop/TRB_competition/Tranfor/Frankie_test.ipynb#W1sZmlsZQ%3D%3D?line=5'>6</a>\u001b[0m     connections \u001b[39m=\u001b[39m [x \u001b[39mfor\u001b[39;00m x \u001b[39min\u001b[39;00m reader\u001b[39m.\u001b[39mconnections \u001b[39mif\u001b[39;00m x\u001b[39m.\u001b[39mtopic \u001b[39m==\u001b[39m \u001b[39m\"\u001b[39m\u001b[39m/lidar_0000/pandar\u001b[39m\u001b[39m\"\u001b[39m]\n\u001b[1;32m      <a href='vscode-notebook-cell:/home/ai/Desktop/TRB_competition/Tranfor/Frankie_test.ipynb#W1sZmlsZQ%3D%3D?line=6'>7</a>\u001b[0m     \u001b[39mfor\u001b[39;00m connection, timestamp, rawdata \u001b[39min\u001b[39;00m reader\u001b[39m.\u001b[39mmessages(connections\u001b[39m=\u001b[39mconnections):\n",
      "File \u001b[0;32m~/.local/lib/python3.8/site-packages/rosbags/highlevel/anyreader.py:86\u001b[0m, in \u001b[0;36mAnyReader.__init__\u001b[0;34m(self, paths)\u001b[0m\n\u001b[1;32m     83\u001b[0m     \u001b[39mraise\u001b[39;00m AnyReaderError(\u001b[39m'\u001b[39m\u001b[39mOpening of multiple rosbag2 recordings is not supported.\u001b[39m\u001b[39m'\u001b[39m)\n\u001b[1;32m     85\u001b[0m \u001b[39mif\u001b[39;00m missing \u001b[39m:=\u001b[39m [x \u001b[39mfor\u001b[39;00m x \u001b[39min\u001b[39;00m paths \u001b[39mif\u001b[39;00m \u001b[39mnot\u001b[39;00m x\u001b[39m.\u001b[39mexists()]:\n\u001b[0;32m---> 86\u001b[0m     \u001b[39mraise\u001b[39;00m AnyReaderError(\u001b[39mf\u001b[39m\u001b[39m'\u001b[39m\u001b[39mThe following paths are missing: \u001b[39m\u001b[39m{\u001b[39;00mmissing\u001b[39m!r}\u001b[39;00m\u001b[39m'\u001b[39m)\n\u001b[1;32m     88\u001b[0m \u001b[39mself\u001b[39m\u001b[39m.\u001b[39mpaths \u001b[39m=\u001b[39m paths\n\u001b[1;32m     89\u001b[0m \u001b[39mself\u001b[39m\u001b[39m.\u001b[39mis2 \u001b[39m=\u001b[39m (paths[\u001b[39m0\u001b[39m] \u001b[39m/\u001b[39m \u001b[39m'\u001b[39m\u001b[39mmetadata.yaml\u001b[39m\u001b[39m'\u001b[39m)\u001b[39m.\u001b[39mexists()\n",
      "\u001b[0;31mAnyReaderError\u001b[0m: The following paths are missing: [PosixPath('2023-11-03-12-37-20.bag')]"
     ]
    }
   ],
   "source": [
    "def read_point_clouds(data_path=\"./2023-11-03-12-37-20.bag\", num_msgs=10):\n",
    "    points = []\n",
    "    pxyzs = []\n",
    "    ct = 0\n",
    "    with AnyReader([Path()]) as reader:\n",
    "        connections = [x for x in reader.connections if x.topic == \"/lidar_0000/pandar\"]\n",
    "        for connection, timestamp, rawdata in reader.messages(connections=connections):\n",
    "            msg = reader.deserialize(rawdata, connection.msgtype)\n",
    "            pt = read_points(msg)            \n",
    "            pt_xyz = np.vstack([[p[0], p[1], p[2]] for p in pt])\n",
    "            points.append(pt)\n",
    "            pxyzs.append(pt_xyz)\n",
    "            ct += 1            \n",
    "            if ct >= num_msgs:\n",
    "                return points, pxyzs\n",
    "    return None\n",
    "\n",
    "points, pxyzs = read_point_clouds(10)"
   ]
  }
 ],
 "metadata": {
  "kernelspec": {
   "display_name": "Python 3",
   "language": "python",
   "name": "python3"
  },
  "language_info": {
   "codemirror_mode": {
    "name": "ipython",
    "version": 3
   },
   "file_extension": ".py",
   "mimetype": "text/x-python",
   "name": "python",
   "nbconvert_exporter": "python",
   "pygments_lexer": "ipython3",
   "version": "3.8.10"
  }
 },
 "nbformat": 4,
 "nbformat_minor": 2
}
